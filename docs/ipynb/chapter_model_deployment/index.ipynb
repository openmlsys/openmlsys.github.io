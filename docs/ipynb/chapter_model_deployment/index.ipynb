{
 "cells": [
  {
   "cell_type": "markdown",
   "metadata": {
    "origin_pos": 0
   },
   "source": [
    "# 模型部署\n",
    "\n",
    "在前面的章节中，我们讲述了机器学习模型训练系统的基本组成,这一章节我们将讲述模型部署的相关知识。模型部署是将训练好的模型部署到运行环境中进行推理的过程，模型部署的过程中需要解决训练模型到推理模型的转换，硬件资源对模型的限制，模型推理的时延、功耗、内存占用等指标对整个系统的影响以及模型的安全等一系列的问题。\n",
    "\n",
    "本章将主要介绍机器学习模型部署的主要流程，包括训练模型到推理模型的转换、适应硬件限制的模型压缩技术、模型推理及性能优化以及模型的安全保护，最后我们会给出一个模型部署端到端的实践用例。\n",
    "\n",
    "本章的学习目标包括：\n",
    "\n",
    "-   了解训练模型到推理模型转换及优化\n",
    "\n",
    "-   掌握模型压缩的常用方法：量化、稀疏和知识蒸馏\n",
    "\n",
    "-   掌握模型推理的流程及常用的性能优化的技术\n",
    "\n",
    "-   了解模型安全保护的常用方法\n",
    "\n",
    ":begin_tab:toc\n",
    " - [model_deployment_introduction](model_deployment_introduction.ipynb)\n",
    " - [model_converter_and_optimizer](model_converter_and_optimizer.ipynb)\n",
    " - [model_compression](model_compression.ipynb)\n",
    " - [model_inference](model_inference.ipynb)\n",
    " - [model_security](model_security.ipynb)\n",
    " - [summary](summary.ipynb)\n",
    ":end_tab:\n"
   ]
  }
 ],
 "metadata": {
  "language_info": {
   "name": "python"
  }
 },
 "nbformat": 4,
 "nbformat_minor": 4
}