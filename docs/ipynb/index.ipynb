{
 "cells": [
  {
   "cell_type": "markdown",
   "metadata": {
    "origin_pos": 0
   },
   "source": [
    "# 机器学习系统：设计和实现\n",
    "\n",
    ":begin_tab:toc\n",
    " - [chapter_introduction/index](chapter_introduction/index.ipynb)\n",
    " - [chapter_programming_interface/index](chapter_programming_interface/index.ipynb)\n",
    " - [chapter_computational_graph/index](chapter_computational_graph/index.ipynb)\n",
    " - [chapter_compiler_frontend_and_ir/index](chapter_compiler_frontend_and_ir/index.ipynb)\n",
    " - [chapter_compiler_backend_and_runtime/index](chapter_compiler_backend_and_runtime/index.ipynb)\n",
    " - [chapter_hardware_accelerator/index](chapter_hardware_accelerator/index.ipynb)\n",
    " - [chapter_data_processing_framework/index](chapter_data_processing_framework/index.ipynb)\n",
    " - [chapter_model_deployment/index](chapter_model_deployment/index.ipynb)\n",
    " - [chapter_distributed_training_system/index](chapter_distributed_training_system/index.ipynb)\n",
    " - [chapter_framework_expansion/index](chapter_framework_expansion/index.ipynb)\n",
    " - [appendix_Introduction_machine_learning/index](appendix_Introduction_machine_learning/index.ipynb)\n",
    ":end_tab:\n"
   ]
  }
 ],
 "metadata": {
  "language_info": {
   "name": "python"
  }
 },
 "nbformat": 4,
 "nbformat_minor": 4
}