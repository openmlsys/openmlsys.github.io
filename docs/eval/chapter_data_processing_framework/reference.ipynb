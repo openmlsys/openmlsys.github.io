{
 "cells": [
  {
   "cell_type": "markdown",
   "metadata": {
    "origin_pos": 0
   },
   "source": [
    "## 引用\n",
    "\\[1\\] Meijer, E., Beckman, B., & Bierman, G. (2006, June). Linq:\n",
    "reconciling object, relations and xml in the. net framework. In\n",
    "Proceedings of the 2006 ACM SIGMOD international conference on\n",
    "Management of data (pp. 706-706).\n",
    "\n",
    "\\[2\\] Murray, D. G., McSherry, F., Isaacs, R., Isard, M., Barham, P., &\n",
    "Abadi, M. (2013, November). Naiad: a timely dataflow system. In\n",
    "Proceedings of the Twenty-Fourth ACM Symposium on Operating Systems\n",
    "Principles (pp. 439-455).\n",
    "\n",
    "\\[3\\] Zaharia, M., Chowdhury, M., Franklin, M. J., Shenker, S., & Stoica,\n",
    "I. (2010). Spark: Cluster computing with working sets. HotCloud,\n",
    "10(10-10), 95.\n",
    "\n",
    "\\[4\\] Fetterly, Y. Y. M. I. D., Budiu, M., Erlingsson, Ú., & Currey, P.\n",
    "K. G. J. (2009). DryadLINQ: A system for general-purpose distributed\n",
    "data-parallel computing using a high-level language. Proc. LSDS-IR, 8.\n",
    "\n",
    "\\[5\\] Murray, D. G., Simsa, J., Klimovic, A., & Indyk, I. (2021). tf.\n",
    "data: A Machine Learning Data Processing Framework. arXiv preprint\n",
    "arXiv:2101.12127.\n",
    "\n",
    "\\[6\\] Mohan, J., Phanishayee, A., Raniwala, A., & Chidambaram, V. (2020).\n",
    "Analyzing and mitigating data stalls in DNN training. arXiv preprint\n",
    "arXiv:2007.06775.\n",
    "\n",
    "\\[7\\] https://docs.google.com/document/d/18CXhDb1ygxg-YXNBJNzfzZsDFosB5e6BfnXLlejd9l0/edit#.\n",
    "\n",
    "\\[8\\] https://github.com/NVIDIA/DALI.\n",
    "\n",
    "\\[9\\] https://docs.ray.io/en/latest/data/dataset.html.\n",
    "\n",
    "\\[10\\] https://gitee.com/mindspore/dataset-plugin.\n"
   ]
  }
 ],
 "metadata": {
  "language_info": {
   "name": "python"
  }
 },
 "nbformat": 4,
 "nbformat_minor": 4
}