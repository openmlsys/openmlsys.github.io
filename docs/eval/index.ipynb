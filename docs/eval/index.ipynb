{
 "cells": [
  {
   "cell_type": "markdown",
   "metadata": {
    "origin_pos": 0
   },
   "source": [
    "# 机器学习系统：设计和实现\n",
    "\n",
    "```toc\n",
    ":maxdepth: 2\n",
    ":numbered:\n",
    "\n",
    "chapter_introduction/index\n",
    "chapter_programming_interface/index\n",
    "chapter_computational_graph/index\n",
    "chapter_compiler_frontend_and_ir/index\n",
    "chapter_compiler_backend_and_runtime/index\n",
    "chapter_hardware_accelerator/index\n",
    "chapter_data_processing_framework/index\n",
    "chapter_model_deployment/index\n",
    "chapter_distributed_training_system/index\n",
    "chapter_framework_expansion/index\n",
    "appendix_Introduction_machine_learning/index\n",
    "```\n"
   ]
  }
 ],
 "metadata": {
  "language_info": {
   "name": "python"
  }
 },
 "nbformat": 4,
 "nbformat_minor": 4
}