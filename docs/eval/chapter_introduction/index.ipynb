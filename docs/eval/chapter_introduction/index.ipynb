{
 "cells": [
  {
   "cell_type": "markdown",
   "metadata": {
    "origin_pos": 0
   },
   "source": [
    "# 导论\n",
    "\n",
    "本章第一部分首先介绍机器学习的概貌，以及其在系统角度的共性问题。\n",
    "本章第二部分介绍系统设计的需求和目标，让读者从宏观上来了解系统需要满足的内容，对系统设计的主要用例、设计规格有一个清晰的了解。\n",
    "本章最后部分介绍机器学习系统的组成原理，让读者对系统整体的实现有一个初步的、宏观的理解。\n",
    "\n",
    "```toc\n",
    ":maxdepth: 2\n",
    "\n",
    "machine_learning_applications\n",
    "requirements_for_machine_learning_systems\n",
    "components_of_machine_learning_systems\n",
    "applicable_readers\n",
    "```\n"
   ]
  }
 ],
 "metadata": {
  "language_info": {
   "name": "python"
  }
 },
 "nbformat": 4,
 "nbformat_minor": 4
}